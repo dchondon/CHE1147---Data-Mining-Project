{
 "cells": [
  {
   "cell_type": "code",
   "execution_count": 1,
   "metadata": {},
   "outputs": [],
   "source": [
    "import numpy as np\n",
    "import matplotlib.pyplot as plt\n",
    "from sklearn import datasets\n",
    "from sklearn.decomposition import PCA\n",
    "import pandas as pd\n",
    "from sklearn.preprocessing import StandardScaler\n",
    "from numpy.linalg import inv, qr, det\n",
    "import nltk\n",
    "import os\n",
    "import scipy.cluster.hierarchy as shc"
   ]
  },
  {
   "cell_type": "code",
   "execution_count": 2,
   "metadata": {},
   "outputs": [
    {
     "data": {
      "text/html": [
       "<div>\n",
       "<style scoped>\n",
       "    .dataframe tbody tr th:only-of-type {\n",
       "        vertical-align: middle;\n",
       "    }\n",
       "\n",
       "    .dataframe tbody tr th {\n",
       "        vertical-align: top;\n",
       "    }\n",
       "\n",
       "    .dataframe thead th {\n",
       "        text-align: right;\n",
       "    }\n",
       "</style>\n",
       "<table border=\"1\" class=\"dataframe\">\n",
       "  <thead>\n",
       "    <tr style=\"text-align: right;\">\n",
       "      <th></th>\n",
       "      <th>AGE_YRS</th>\n",
       "      <th>NUMDAYS</th>\n",
       "      <th>VAX_DOSE_SERIES</th>\n",
       "      <th>M/F</th>\n",
       "      <th>BIRTHDEF_Y/N</th>\n",
       "      <th>NUM_SYMPS</th>\n",
       "      <th>SYMP_SEV</th>\n",
       "      <th>MEDS_Y/N</th>\n",
       "      <th>CILL_Y/N</th>\n",
       "      <th>HIST_Y/N</th>\n",
       "      <th>...</th>\n",
       "      <th>AR</th>\n",
       "      <th>GM</th>\n",
       "      <th>LA</th>\n",
       "      <th>LG</th>\n",
       "      <th>LL</th>\n",
       "      <th>MO</th>\n",
       "      <th>NS</th>\n",
       "      <th>RA</th>\n",
       "      <th>RL</th>\n",
       "      <th>SEVERITY</th>\n",
       "    </tr>\n",
       "  </thead>\n",
       "  <tbody>\n",
       "    <tr>\n",
       "      <th>0</th>\n",
       "      <td>35.0</td>\n",
       "      <td>18</td>\n",
       "      <td>1</td>\n",
       "      <td>1</td>\n",
       "      <td>0</td>\n",
       "      <td>2</td>\n",
       "      <td>2.000000</td>\n",
       "      <td>0</td>\n",
       "      <td>0</td>\n",
       "      <td>0</td>\n",
       "      <td>...</td>\n",
       "      <td>0</td>\n",
       "      <td>0</td>\n",
       "      <td>0</td>\n",
       "      <td>0</td>\n",
       "      <td>0</td>\n",
       "      <td>0</td>\n",
       "      <td>0</td>\n",
       "      <td>1</td>\n",
       "      <td>0</td>\n",
       "      <td>1</td>\n",
       "    </tr>\n",
       "    <tr>\n",
       "      <th>2</th>\n",
       "      <td>52.0</td>\n",
       "      <td>3</td>\n",
       "      <td>2</td>\n",
       "      <td>1</td>\n",
       "      <td>0</td>\n",
       "      <td>1</td>\n",
       "      <td>0.000000</td>\n",
       "      <td>0</td>\n",
       "      <td>0</td>\n",
       "      <td>1</td>\n",
       "      <td>...</td>\n",
       "      <td>0</td>\n",
       "      <td>0</td>\n",
       "      <td>0</td>\n",
       "      <td>0</td>\n",
       "      <td>0</td>\n",
       "      <td>0</td>\n",
       "      <td>0</td>\n",
       "      <td>1</td>\n",
       "      <td>0</td>\n",
       "      <td>1</td>\n",
       "    </tr>\n",
       "    <tr>\n",
       "      <th>3</th>\n",
       "      <td>11.0</td>\n",
       "      <td>52</td>\n",
       "      <td>1</td>\n",
       "      <td>1</td>\n",
       "      <td>0</td>\n",
       "      <td>2</td>\n",
       "      <td>0.000000</td>\n",
       "      <td>0</td>\n",
       "      <td>0</td>\n",
       "      <td>0</td>\n",
       "      <td>...</td>\n",
       "      <td>0</td>\n",
       "      <td>0</td>\n",
       "      <td>1</td>\n",
       "      <td>0</td>\n",
       "      <td>0</td>\n",
       "      <td>0</td>\n",
       "      <td>0</td>\n",
       "      <td>0</td>\n",
       "      <td>0</td>\n",
       "      <td>1</td>\n",
       "    </tr>\n",
       "    <tr>\n",
       "      <th>4</th>\n",
       "      <td>16.0</td>\n",
       "      <td>0</td>\n",
       "      <td>1</td>\n",
       "      <td>0</td>\n",
       "      <td>0</td>\n",
       "      <td>3</td>\n",
       "      <td>1.333333</td>\n",
       "      <td>1</td>\n",
       "      <td>1</td>\n",
       "      <td>1</td>\n",
       "      <td>...</td>\n",
       "      <td>0</td>\n",
       "      <td>0</td>\n",
       "      <td>0</td>\n",
       "      <td>0</td>\n",
       "      <td>0</td>\n",
       "      <td>0</td>\n",
       "      <td>0</td>\n",
       "      <td>1</td>\n",
       "      <td>0</td>\n",
       "      <td>1</td>\n",
       "    </tr>\n",
       "    <tr>\n",
       "      <th>5</th>\n",
       "      <td>11.0</td>\n",
       "      <td>0</td>\n",
       "      <td>1</td>\n",
       "      <td>0</td>\n",
       "      <td>0</td>\n",
       "      <td>2</td>\n",
       "      <td>0.000000</td>\n",
       "      <td>1</td>\n",
       "      <td>0</td>\n",
       "      <td>0</td>\n",
       "      <td>...</td>\n",
       "      <td>0</td>\n",
       "      <td>0</td>\n",
       "      <td>1</td>\n",
       "      <td>0</td>\n",
       "      <td>0</td>\n",
       "      <td>0</td>\n",
       "      <td>0</td>\n",
       "      <td>0</td>\n",
       "      <td>0</td>\n",
       "      <td>0</td>\n",
       "    </tr>\n",
       "  </tbody>\n",
       "</table>\n",
       "<p>5 rows × 107 columns</p>\n",
       "</div>"
      ],
      "text/plain": [
       "   AGE_YRS  NUMDAYS  VAX_DOSE_SERIES  M/F  BIRTHDEF_Y/N  NUM_SYMPS  SYMP_SEV  \\\n",
       "0     35.0       18                1    1             0          2  2.000000   \n",
       "2     52.0        3                2    1             0          1  0.000000   \n",
       "3     11.0       52                1    1             0          2  0.000000   \n",
       "4     16.0        0                1    0             0          3  1.333333   \n",
       "5     11.0        0                1    0             0          2  0.000000   \n",
       "\n",
       "   MEDS_Y/N  CILL_Y/N  HIST_Y/N    ...     AR  GM  LA  LG  LL  MO  NS  RA  RL  \\\n",
       "0         0         0         0    ...      0   0   0   0   0   0   0   1   0   \n",
       "2         0         0         1    ...      0   0   0   0   0   0   0   1   0   \n",
       "3         0         0         0    ...      0   0   1   0   0   0   0   0   0   \n",
       "4         1         1         1    ...      0   0   0   0   0   0   0   1   0   \n",
       "5         1         0         0    ...      0   0   1   0   0   0   0   0   0   \n",
       "\n",
       "   SEVERITY  \n",
       "0         1  \n",
       "2         1  \n",
       "3         1  \n",
       "4         1  \n",
       "5         0  \n",
       "\n",
       "[5 rows x 107 columns]"
      ]
     },
     "execution_count": 2,
     "metadata": {},
     "output_type": "execute_result"
    }
   ],
   "source": [
    "df=pd.read_excel('VAE1817_BSEV_F_Young1.xlsx')\n",
    "df.head()"
   ]
  },
  {
   "cell_type": "markdown",
   "metadata": {},
   "source": [
    "df=df[[c for c in df if c not in ['SEVERITY']] + ['SEVERITY']]\n",
    "df=df.drop('OTH',axis=1)\n",
    "df.to_excel('VAERS2018_FORMATED4.xlsx')\n",
    "df.head()"
   ]
  },
  {
   "cell_type": "code",
   "execution_count": 3,
   "metadata": {},
   "outputs": [
    {
     "name": "stdout",
     "output_type": "stream",
     "text": [
      "[1.736e+03 5.147e+04 3.449e+00 1.824e+01 4.176e+01 1.237e+00 4.715e+00\n",
      " 8.971e+00 4.738e+01 4.167e+01 2.208e+00 1.618e+02 1.425e-01 5.702e-01\n",
      " 1.806e+00 1.425e-01 1.425e-01 2.592e-01 1.215e-04 7.155e+00 4.029e-02\n",
      " 2.369e+00       nan 7.015e+00 7.005e-01 6.017e-01 2.345e-02 1.425e-01\n",
      " 8.378e-05 4.276e-01 1.195e+00 5.917e+00 2.309e-01 1.425e-01       nan\n",
      " 7.015e+00 1.298e-01 5.925e-02 5.686e-01 4.185e-01 1.425e-01 2.747e+00\n",
      " 3.847e-02 4.543e+00 1.425e-01 2.298e+00 1.425e-01 2.812e+00 3.633e-02\n",
      " 7.015e+00 7.648e-01 9.820e-02 4.300e-02 2.851e-01 2.579e+00 8.039e+00\n",
      " 4.276e-01 3.464e+00 3.102e-02 1.903e+00 2.797e-02 6.257e+00 5.184e-01\n",
      " 3.371e+00 6.809e-01 1.425e-01 7.127e-01 1.691e-01 3.798e-01 3.412e+01\n",
      " 3.908e-01 1.910e-01 5.556e-01 2.579e+00 2.851e+00 1.872e+01 2.298e+00\n",
      " 3.984e+00 9.649e-02 6.102e+00 1.425e-01 8.630e+00 1.425e-01 1.425e-01\n",
      " 4.968e+00 6.031e-01 9.013e-01 2.218e-02 1.425e-01 5.702e-01 7.959e-02\n",
      " 1.940e-01 9.649e-02 1.425e-01 5.966e+00 3.118e+00 6.759e+00 7.752e-01\n",
      " 3.469e+00 2.835e+00 3.280e+00 1.564e+00 5.966e+00 9.649e-02 3.730e-01\n",
      " 4.345e+00]\n",
      "[[35. 18.  0.  0.]\n",
      " [52.  3.  0.  0.]\n",
      " [11. 52.  0.  0.]\n",
      " [16.  0.  1.  0.]\n",
      " [11.  0.  0.  0.]]\n"
     ]
    },
    {
     "data": {
      "text/plain": [
       "array([22, 34,  1,  0], dtype=int64)"
      ]
     },
     "execution_count": 3,
     "metadata": {},
     "output_type": "execute_result"
    }
   ],
   "source": [
    "from sklearn.feature_selection import SelectKBest\n",
    "from sklearn.feature_selection import chi2\n",
    "# load data\n",
    "array = df.values\n",
    "X = array[:,0:-1]\n",
    "Y = array[:,-1]\n",
    "# feature extraction\n",
    "test = SelectKBest(score_func=chi2, k=4)\n",
    "fit = test.fit(X, Y)\n",
    "# summarize scores\n",
    "np.set_printoptions(precision=3)\n",
    "print(fit.scores_)\n",
    "features = fit.transform(X)\n",
    "# summarize selected features\n",
    "print(features[0:5,:])\n",
    "fit.scores_.argsort()[-4:][::-1]"
   ]
  },
  {
   "cell_type": "code",
   "execution_count": 11,
   "metadata": {},
   "outputs": [
    {
     "data": {
      "text/plain": [
       "0    0\n",
       "2    0\n",
       "3    0\n",
       "4    0\n",
       "5    0\n",
       "Name: DTPIPV, dtype: int64"
      ]
     },
     "execution_count": 11,
     "metadata": {},
     "output_type": "execute_result"
    }
   ],
   "source": [
    "df.iloc[0:5,22]"
   ]
  },
  {
   "cell_type": "markdown",
   "metadata": {},
   "source": [
    "# Feature Extraction with Univariate Statistical Tests (Chi-squared for classification)\n",
    "from sklearn.feature_selection import SelectKBest\n",
    "from sklearn.feature_selection import chi2\n",
    "# load data\n",
    "url = \"https://raw.githubusercontent.com/jbrownlee/Datasets/master/pima-indians-diabetes.data.csv\"\n",
    "names = ['preg', 'plas', 'pres', 'skin', 'test', 'mass', 'pedi', 'age', 'class']\n",
    "dataframe = pd.read_csv(url, names=names)\n",
    "array = dataframe.values\n",
    "X = array[:,0:8]\n",
    "Y = array[:,8]\n",
    "# feature extraction\n",
    "test = SelectKBest(score_func=chi2, k=4)\n",
    "fit = test.fit(X, Y)\n",
    "# summarize scores\n",
    "np.set_printoptions(precision=3)\n",
    "print(fit.scores_)\n",
    "features = fit.transform(X)\n",
    "# summarize selected features\n",
    "print(features[0:5,:])\n",
    "fit.scores_.argsort()[-4:][::-1]"
   ]
  },
  {
   "cell_type": "markdown",
   "metadata": {},
   "source": [
    "dataframe.iloc[0:5,5]"
   ]
  },
  {
   "cell_type": "code",
   "execution_count": 5,
   "metadata": {},
   "outputs": [
    {
     "name": "stdout",
     "output_type": "stream",
     "text": [
      "Num Features:  4\n",
      "Selected Features:  [False False False False  True False False False False False False  True\n",
      " False False False False False False False False False False False False\n",
      " False False False False False False False  True False False False False\n",
      " False False False False False False False False False False False False\n",
      " False False False False False False False  True False False False False\n",
      " False False False False False False False False False False False False\n",
      " False False False False False False False False False False False False\n",
      " False False False False False False False False False False False False\n",
      " False False False False False False False False False False]\n",
      "Feature Ranking:  [ 99 101  94  25   1 100  84  55  17   7  96   1  70  23  80  91  52  29\n",
      "  87  18  86  13 102   6  93  89  41  57  88  20  48   1  30  82 103   5\n",
      "  83  44  50  45  69  75  35  19  81  59  58   9  40   4  42  33  47  56\n",
      "  14   1  26  43  36   8  67  46  21  11  61  27  15  38  37  12  60  79\n",
      "  24   2  74  32  10  49  62  95  54  73  90  53  72  71  31  34  51  28\n",
      "  22  78  63  76  92  98  39  85   3  65  16  66  97  77  64  68]\n"
     ]
    }
   ],
   "source": [
    "from pandas import read_csv\n",
    "from sklearn.feature_selection import RFE\n",
    "from sklearn.linear_model import LogisticRegression\n",
    "# load data\n",
    "array = df.values\n",
    "X = array[:,0:-1]\n",
    "Y = array[:,-1]\n",
    "# feature extraction\n",
    "model = LogisticRegression()\n",
    "rfe = RFE(model, 4)\n",
    "fit = rfe.fit(X, Y)\n",
    "print(\"Num Features: \", fit.n_features_)\n",
    "print(\"Selected Features: \", fit.support_)\n",
    "print(\"Feature Ranking: \", fit.ranking_)"
   ]
  },
  {
   "cell_type": "code",
   "execution_count": 6,
   "metadata": {},
   "outputs": [
    {
     "name": "stdout",
     "output_type": "stream",
     "text": [
      "4\n",
      "11\n",
      "31\n",
      "55\n"
     ]
    }
   ],
   "source": [
    "count=0\n",
    "for i in fit.support_:\n",
    "    if i == True:\n",
    "        print(count)\n",
    "    count+=1"
   ]
  },
  {
   "cell_type": "code",
   "execution_count": 7,
   "metadata": {},
   "outputs": [
    {
     "data": {
      "text/plain": [
       "0    0\n",
       "2    0\n",
       "3    0\n",
       "4    0\n",
       "5    0\n",
       "Name: DT, dtype: int64"
      ]
     },
     "execution_count": 7,
     "metadata": {},
     "output_type": "execute_result"
    }
   ],
   "source": [
    "df.iloc[0:5,17]"
   ]
  },
  {
   "cell_type": "code",
   "execution_count": 8,
   "metadata": {},
   "outputs": [
    {
     "name": "stderr",
     "output_type": "stream",
     "text": [
      "E:\\Program Files (x86)\\Anaconda\\lib\\site-packages\\sklearn\\ensemble\\weight_boosting.py:29: DeprecationWarning: numpy.core.umath_tests is an internal NumPy module and should not be imported. It will be removed in a future NumPy release.\n",
      "  from numpy.core.umath_tests import inner1d\n"
     ]
    },
    {
     "name": "stdout",
     "output_type": "stream",
     "text": [
      "[1.705e-01 1.569e-01 5.361e-02 2.762e-02 3.166e-03 9.721e-02 1.074e-01\n",
      " 2.623e-02 2.016e-02 2.430e-02 1.461e-02 2.647e-02 2.423e-05 1.878e-05\n",
      " 9.677e-04 9.313e-07 7.194e-06 4.891e-04 5.040e-03 3.942e-03 4.499e-03\n",
      " 2.157e-03 0.000e+00 5.502e-04 7.267e-03 9.415e-03 2.210e-03 1.536e-06\n",
      " 2.371e-03 9.346e-05 1.416e-04 9.018e-04 3.902e-04 0.000e+00 0.000e+00\n",
      " 4.163e-04 5.303e-03 5.659e-03 1.930e-03 4.280e-03 3.402e-05 3.026e-03\n",
      " 5.146e-03 3.374e-03 1.814e-06 9.785e-04 7.749e-06 9.865e-04 3.402e-03\n",
      " 5.669e-04 5.069e-03 4.296e-03 6.901e-03 3.736e-06 1.885e-04 1.469e-03\n",
      " 9.883e-06 4.162e-03 6.238e-03 4.660e-04 3.607e-04 1.037e-03 5.646e-04\n",
      " 1.963e-03 7.477e-03 3.532e-05 4.299e-05 1.648e-03 4.777e-03 8.088e-03\n",
      " 1.686e-03 2.126e-04 1.657e-03 3.279e-04 1.080e-03 8.710e-03 5.636e-04\n",
      " 7.842e-04 2.946e-05 7.012e-03 8.251e-06 6.006e-03 0.000e+00 1.849e-05\n",
      " 5.031e-03 6.813e-04 8.616e-03 3.346e-03 3.638e-06 2.555e-05 5.557e-04\n",
      " 1.235e-02 4.975e-05 1.270e-05 1.714e-03 6.262e-03 8.409e-03 5.548e-03\n",
      " 1.065e-03 1.886e-02 2.167e-03 1.102e-02 1.345e-03 6.972e-05 1.591e-02\n",
      " 1.023e-02]\n"
     ]
    },
    {
     "data": {
      "text/plain": [
       "array([0, 1, 6, 5], dtype=int64)"
      ]
     },
     "execution_count": 8,
     "metadata": {},
     "output_type": "execute_result"
    }
   ],
   "source": [
    "# Feature Importance with Extra Trees Classifier\n",
    "from pandas import read_csv\n",
    "from sklearn.ensemble import ExtraTreesClassifier\n",
    "array = df.values\n",
    "X = array[:,0:-1]\n",
    "Y = array[:,-1]\n",
    "# feature extraction\n",
    "model = ExtraTreesClassifier()\n",
    "model.fit(X, Y)\n",
    "print(model.feature_importances_)\n",
    "model.feature_importances_.argsort()[-4:][::-1]"
   ]
  },
  {
   "cell_type": "code",
   "execution_count": 9,
   "metadata": {},
   "outputs": [
    {
     "data": {
      "text/plain": [
       "array([ 0,  1,  6,  5,  2,  3, 11,  7,  9,  8], dtype=int64)"
      ]
     },
     "execution_count": 9,
     "metadata": {},
     "output_type": "execute_result"
    }
   ],
   "source": [
    "model.feature_importances_.argsort()[-10:][::-1]"
   ]
  },
  {
   "cell_type": "code",
   "execution_count": 10,
   "metadata": {},
   "outputs": [
    {
     "data": {
      "text/plain": [
       "0    1\n",
       "2    2\n",
       "3    1\n",
       "4    1\n",
       "5    1\n",
       "Name: VAX_DOSE_SERIES, dtype: int64"
      ]
     },
     "execution_count": 10,
     "metadata": {},
     "output_type": "execute_result"
    }
   ],
   "source": [
    "df.iloc[0:5,2]"
   ]
  },
  {
   "cell_type": "code",
   "execution_count": null,
   "metadata": {},
   "outputs": [],
   "source": []
  }
 ],
 "metadata": {
  "kernelspec": {
   "display_name": "Python 3",
   "language": "python",
   "name": "python3"
  },
  "language_info": {
   "codemirror_mode": {
    "name": "ipython",
    "version": 3
   },
   "file_extension": ".py",
   "mimetype": "text/x-python",
   "name": "python",
   "nbconvert_exporter": "python",
   "pygments_lexer": "ipython3",
   "version": "3.7.0"
  }
 },
 "nbformat": 4,
 "nbformat_minor": 2
}
